{
 "cells": [
  {
   "cell_type": "markdown",
   "metadata": {},
   "source": [
    "# Starbucks Index Findings"
   ]
  },
  {
   "cell_type": "markdown",
   "metadata": {},
   "source": [
    "1. There are 21 countries price information that we extract from Starbucks webpages.\n",
    "2. Out of 21 webpages, there are only 14 countries that we can get latte price.\n",
    "3. Due to the limitations of algorithms, the price extracted from different countries' webpages may not be accurate, it only extract the first record which item's name has 'latte', it could be a combo or other types of latte.\n",
    "4. Among the 14 countries we have information about, 6 of them are overvalued (PPP exchange rate > actual exchange rate), while 8 are undervalued (PPP exchange rate < actual exchange rate).\n",
    "5. Within the overvalued countries, Chile is the most overvalued one. This suggests that Starbucks coffee is significantly more expensive in Chile compared to the baseline fair value.\n",
    "6. Whereas, among the undervalued countries, Italy is the most undervalued one, meaning that Starbucks coffee is significantly cheaper compared to the baseline. I think this makes sense, since Italian have very high standard regarding coffee, and I heard they don't like Starbucks.\n",
    "7. I expected United States would lie on the fair value line.\n",
    "8. Some countries are overvalued according to Starbucks but undervalued in the Big Mac Index, showing different pricing strategies by companies. Only United States and Australia have high PPP exchange rate for Big Mac."
   ]
  }
 ],
 "metadata": {
  "language_info": {
   "name": "python"
  }
 },
 "nbformat": 4,
 "nbformat_minor": 2
}
